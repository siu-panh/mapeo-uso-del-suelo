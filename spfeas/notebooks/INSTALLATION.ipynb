{
 "cells": [
  {
   "cell_type": "markdown",
   "metadata": {},
   "source": [
    "## <span style=\"color:#0B3B2E;float:right;font-family:Calibri\">Jordan Graesser</span>\n",
    "\n",
    "# Follow the instructions below to install SpFeas\n",
    "---"
   ]
  },
  {
   "cell_type": "markdown",
   "metadata": {},
   "source": [
    "## <span style=\"color:blue\">Python</span>\n",
    "---\n",
    "\n",
    "### <span style=\"color:green\">Python needs to be installed before running SpFeas</span>\n",
    "If you know that you have Python installed, skip this section.\n",
    "\n",
    "#### Python on OSX\n",
    "1. Check if Python is installed.\n",
    "    > which python\n",
    "2. I recommend installing Python with [Homebrew](http://brew.sh/).\n",
    "    > brew install python\n",
    "\n",
    "#### Python on Windows\n",
    "1. Check if Python is installed.\n",
    "    > where python\n",
    "2. I recommend installing Python with [Anaconda](https://www.continuum.io/downloads)."
   ]
  },
  {
   "cell_type": "markdown",
   "metadata": {},
   "source": [
    "## <span style=\"color:blue\">Installing SpFeas on OSX</span>\n",
    "---\n",
    "\n",
    "### <span style=\"color:green\">Installing from the bash terminal window</span>\n",
    "> The terminal window can be found under Applications/Utilities. You can open it by typing 'terminal' in the **Spotlight search**. \n",
    "\n",
    "1. Install or upgrade **XCode** from the App Store.\n",
    "    * Open the App Store and search for XCode.\n",
    "2. Download the [INSTALL_OSX.sh file](https://github.com/jgrss/spfeas/blob/master/files/INSTALL_OSX.sh). \n",
    "    * To save, click **Raw**, then **File>Save Page As**.\n",
    "    * Save to the **~/Downloads** folder on your local machine.\n",
    "3. Open a bash terminal and move to the **/Downloads** directory by typing or copying the command below into the terminal window (hit **return** to execute).\n",
    "    > `cd ~/Downloads/`\n",
    "4. Make the INSTALL_OSX.sh file executable by typing or copying the command below into the terminal window (hit **return** to execute).\n",
    "    > `chmod +x INSTALL_OSX.sh`\n",
    "5. Run the INSTALL_OSX.sh installer by typing or copying the command below into the terminal window (hit **return** to execute).\n",
    "    > `./INSTALL_OSX.sh`\n",
    "6. Command line prompts\n",
    "    * When prompted, hit **enter**, type **y**, or type your **computer password** or **GitHub username and password** to continue the installation process.\n",
    "    * Note that your password will not be shown on the screen when you type."
   ]
  },
  {
   "cell_type": "markdown",
   "metadata": {},
   "source": [
    "## <span style=\"color:blue\">Installing SpFeas on Windows</span>\n",
    "---\n",
    "\n",
    "### <span style=\"color:green\">GDAL binaries</span>\n",
    "> The GDAL binaries are useful command line tools for image processing. Skip to the next section (**Installing SpFeas from the Windows Command Prompt**) if you already have the GDAL binaries or do not wish to install them. SpFeas does not require them for installation, and you can always return to this section later on. \n",
    "\n",
    "1. Download and install the GDAL binaries (**gdal-201-1500-core.msi**) from the [GIS Internals site](http://www.gisinternals.com/query.html?content=filelist&file=release-1500-gdal-2-1-0-mapserver-7-0-1.zip).\n",
    "\n",
    "2. Follow steps 3 and 4 from [this tutorial](https://sandbox.idre.ucla.edu/sandbox/tutorials/installing-gdal-for-windows) to setup the Path environment variables.\n",
    "\n",
    "### <span style=\"color:green\">Installing SpFeas from the Windows Command Prompt</span>\n",
    "> The command prompt can be found under the Start menu. Open it by typing 'cmd' in the **search box**. \n",
    "\n",
    "1. Download one of the following zip files (that match your Python installation) from the [SpFeas Releases](https://github.com/jgrss/spfeas/releases) page and save in **\\Downloads**.\n",
    "    * SpFeas-0.1.1-MpGlue-0.1.0-cp27-cp27m-win32.zip\n",
    "    * SpFeas-0.1.1-MpGlue-0.1.0-cp27-cp27m-win_amd64.zip\n",
    "\n",
    "2. Unzip the downloaded zip file\n",
    "\n",
    "3. Open a command prompt window and move to the extracted folder (e.g., **C:\\Downloads\\SpFeas-0.1.1-MpGlue-0.1.0-cp27-cp27m-win_amd64**) directory by typing or copying the command below into the window (hit **return** to execute).\n",
    "    > `cd \\Downloads\\SpFeas-0.1.1-MpGlue-0.1.0-cp27-cp27m-win_amd64`\n",
    "    \n",
    "4. Run the **INSTALL_Windows** installer by typing or copying one of the commands below (use the one that matches your Python installation) into the terminal window (hit **return** to execute).\n",
    "    * Python 32-bit\n",
    "        > `INSTALL_Windows_x86.cmd`\n",
    "    \n",
    "    * Python 64-bit\n",
    "        > `INSTALL_Windows_x64.cmd`\n",
    "    "
   ]
  },
  {
   "cell_type": "markdown",
   "metadata": {},
   "source": [
    "---\n",
    "### <span style=\"color:blue\">The installation is complete when the screen has stopped printing and it says 'The installation has finished!'</span>\n",
    "---"
   ]
  }
 ],
 "metadata": {
  "kernelspec": {
   "display_name": "Python 2",
   "language": "python",
   "name": "python2"
  },
  "language_info": {
   "codemirror_mode": {
    "name": "ipython",
    "version": 2
   },
   "file_extension": ".py",
   "mimetype": "text/x-python",
   "name": "python",
   "nbconvert_exporter": "python",
   "pygments_lexer": "ipython2",
   "version": "2.7.14"
  }
 },
 "nbformat": 4,
 "nbformat_minor": 1
}
