{
 "cells": [
  {
   "cell_type": "markdown",
   "metadata": {},
   "source": [
    "# Pipeline de entrenamiento y predicción\n",
    "\n",
    "En este notebook se ejemplifica como ejecutar los scripts para poder:\n",
    "    \n",
    "1. Entrenar un modelo para clasificar las zonas de un mapa\n",
    "2. Usar ese mismo modelo para analizar zonas y tener un estimativo de las zonas "
   ]
  },
  {
   "cell_type": "markdown",
   "metadata": {},
   "source": [
    "## Preparando los datos\n",
    "\n",
    "En este notebook se demostrará el proceso utilizando un recorte de imágenes SPOT6/7 para la ciudad de Concordia, Entre Ríos. Se utilizará la imagen correspondiente al año 2017 para entrenar el modelo, y la del 2018 para evaluarlo."
   ]
  },
  {
   "cell_type": "code",
   "execution_count": 3,
   "metadata": {},
   "outputs": [],
   "source": [
    "import os\n",
    "\n",
    "root_path = '/ap-siu-habitat'\n",
    "\n",
    "images_path = os.path.join(root_path, 'data', 'imagenes')\n",
    "train_tif_path = os.path.join(images_path, 'concordia_2016', 'concordia_small_2016.tif')\n",
    "test_tif_path = os.path.join(images_path, 'concordia_2018', 'concordia_small_2018.tif')"
   ]
  },
  {
   "cell_type": "markdown",
   "metadata": {},
   "source": [
    "*Opcional*: Si quiere ejecutar el proceso para las imagenes enteras, descomente las lineas de la siguiente celda y ejecútela.\n",
    "\n",
    "**Tenga en cuenta que el entrenamiento puede demorar varias horas.**"
   ]
  },
  {
   "cell_type": "code",
   "execution_count": 2,
   "metadata": {},
   "outputs": [],
   "source": [
    "def download_file(url, out_path):\n",
    "    if os.path.exists(out_path):\n",
    "        print(\"El archivo {} ya existe. Si quiere descargarlo de nuevo, debe borrarlo primero.\".format(out_path))\n",
    "        return\n",
    "\n",
    "    #!wget -O $test_tif_path $test_remote_tif_url\n",
    "    r = requests.get(url, stream=True) \n",
    "    with open(out_path, \"wb\") as f: \n",
    "        i = 0\n",
    "        for chunk in r.iter_content(chunk_size=available_mem): \n",
    "            # writing one chunk at a time\n",
    "            if chunk: \n",
    "                f.write(chunk)\n",
    "                clear_output(wait=True)\n",
    "                print(\"Escribiendo bloque {} de test, de {} bytes\".format(i,available_mem))\n",
    "                i += 1"
   ]
  },
  {
   "cell_type": "code",
   "execution_count": 3,
   "metadata": {},
   "outputs": [],
   "source": [
    "# concordia_data_path = '{}/data/conae/centro/concordia'.format(root_path)\n",
    "\n",
    "# train_product_folder = 'train'\n",
    "# train_product_image = 'concordia_2016.TIF'\n",
    "# train_tif_path = '{}/{}/{}'.format(concordia_data_path,train_product_folder,train_product_image)\n",
    "# train_remote_tif_url = 'https://storage.googleapis.com/dym-ap-siu-habitat-public-images/concordia/IMG_SPOT7_PMS_201601281334024_ORT_C0000000058530_R1C1.TIF'\n",
    "\n",
    "# !wget --continue -O $train_tif_path $train_remote_tif_url\n",
    "\n",
    "# test_product_folder = 'test'\n",
    "# test_product_image = 'concordia_2018.TIF'\n",
    "# test_tif_path = '{}/{}/{}'.format(concordia_data_path,test_product_folder,test_product_image)\n",
    "# test_remote_tif_url = 'https://storage.googleapis.com/dym-ap-siu-habitat-public-images/concordia/IMG_SPOT6_PMS_201801071323410_ORT_C0000000058510_R1C1.TIF'\n",
    "\n",
    "# !wget --continue -O $test_tif_path $test_remote_tif_url"
   ]
  },
  {
   "cell_type": "markdown",
   "metadata": {},
   "source": [
    "Inicializamos el resto de las variables para ejecutar los scripts, entre ellas la cantidad de hilos paralelos (`n_jobs`) , arboles (`trees`) y profundidad de los mismos (`depth`). Además indicamos las rutas de los scripts, archivos vectoriales etiquetados y rutas de salida."
   ]
  },
  {
   "cell_type": "code",
   "execution_count": 3,
   "metadata": {},
   "outputs": [],
   "source": [
    "script_train_path = '{}/script/siu_train.py'.format(root_path)\n",
    "script_test_path = '{}/script/siu_test.py'.format(root_path)\n",
    "\n",
    "n_jobs = 4\n",
    "trees = 107\n",
    "depth = 1007\n",
    "\n",
    "train_shp_path = '{}/data/etiquetado/centro/concordia2016_train.shp'.format(root_path)\n",
    "out_train_model_path = '{}/data/concordia2016_train_rf_t{}_d{}'.format(root_path,trees,depth)\n",
    "model_file_name = 'concordia2016_train_rf_t{trs}_d{dpt}_rf_t{trs}_d{dpt}.txt'.format(trs=trees,dpt=depth)\n",
    "\n",
    "test_shp_path = '{}/data/etiquetado/centro/concordia2018_train.shp'.format(root_path)\n",
    "out_test_results_path = '{}/data/concordia2018_train_rf_t{}_d{}'.format(root_path,trees,depth)\n",
    "\n",
    "out_train_model_path_full = '{}/model_train_rf_t{}_d{}/{}'.format(out_train_model_path,trees,depth,model_file_name)\n",
    "out_test_results_path_train = '{}/data/concordia2016_test_rf_t{}_d{}'.format(root_path,trees,depth)"
   ]
  },
  {
   "cell_type": "markdown",
   "metadata": {},
   "source": [
    "## Entrenamiento del modelo\n",
    "\n",
    "Entrenamos a modo de ejemplo sobre los datos de la ciudad de concordia del año 2016"
   ]
  },
  {
   "cell_type": "code",
   "execution_count": 10,
   "metadata": {
    "scrolled": true
   },
   "outputs": [],
   "source": [
    "# Para ejecutarlo en el notebook, descomentar y usar la siguente linea \n",
    "#!python3 $script_train_path $train_tif_path $train_shp_path $out_train_model_path $n_jobs $trees $depth --root_path $root_path\n",
    "\n",
    "# Para ejecutarlo en background independiente del notbook usar la siguente linea\n",
    "!python3 $script_train_path $train_tif_path $train_shp_path $out_train_model_path $n_jobs $trees $depth --root_path $root_path >> ./concordia2016_train_rf.log 2>&1"
   ]
  },
  {
   "cell_type": "code",
   "execution_count": 11,
   "metadata": {},
   "outputs": [
    {
     "name": "stdout",
     "output_type": "stream",
     "text": [
      "Entrenamiento terminado\n"
     ]
    }
   ],
   "source": [
    "print(\"Entrenamiento terminado\")"
   ]
  },
  {
   "cell_type": "markdown",
   "metadata": {},
   "source": [
    "Podemos analizar la carpeta de salida donde encontramos el resultado de performance y el modelo obtenido"
   ]
  },
  {
   "cell_type": "code",
   "execution_count": 4,
   "metadata": {},
   "outputs": [
    {
     "data": {
      "text/plain": [
       "['concordia2016_train_rf_t107_d1007_rf_t107_d1007_acc.txt',\n",
       " 'concordia2016_train_rf_t107_d1007_rf_t107_d1007.txt']"
      ]
     },
     "execution_count": 4,
     "metadata": {},
     "output_type": "execute_result"
    }
   ],
   "source": [
    "out_folder = '{}/model_train_rf_t{}_d{}/'.format(out_train_model_path,trees,depth)\n",
    "# !ls -lth $out_folder\n",
    "os.listdir(out_folder)"
   ]
  },
  {
   "cell_type": "markdown",
   "metadata": {},
   "source": [
    "Abriendo el archivo terminado en `_acc.txt` vemos la matriz de confusión y las medidas de performance de entrenamiento"
   ]
  },
  {
   "cell_type": "code",
   "execution_count": 5,
   "metadata": {},
   "outputs": [
    {
     "name": "stdout",
     "output_type": "stream",
     "text": [
      "============\n",
      "Error Matrix\n",
      "============\n",
      "\n",
      "                Observed\n",
      "                --------\n",
      "                C     4   C     5   Total   User(%)\n",
      "                -------   -------   -----   -------\n",
      "Predicted C004| (49)      0         49      100.00\n",
      "          C005| 0         (365)     365     100.00\n",
      "         Total| 49        365       (414)\n",
      "   Producer(%)| 100.00    100.00            (100.00%)\n",
      "\n",
      "Samples: 414\n",
      "\n",
      "==========\n",
      "Statistics\n",
      "==========\n",
      "\n",
      "Overall Accuracy (%): 100.00\n",
      "Kappa: 1.00\n",
      "F-beta: 1.00\n",
      "Hamming loss: 0.00\n",
      "\n",
      "============\n",
      "Class report\n",
      "============\n",
      "\n",
      "             precision    recall  f1-score   support\n",
      "\n",
      "          4       1.00      1.00      1.00        49\n",
      "          5       1.00      1.00      1.00       365\n",
      "\n",
      "avg / total       1.00      1.00      1.00       414\n",
      "\n"
     ]
    }
   ],
   "source": [
    "performance_file = '{}{}'.format(out_folder,'concordia2016_train_rf_t107_d1007_rf_t107_d1007_acc.txt')\n",
    "#!cat $performance_file\n",
    "with open(performance_file, 'r') as f:\n",
    "    print(f.read())"
   ]
  },
  {
   "cell_type": "markdown",
   "metadata": {},
   "source": [
    "## Predicción usando el modelo aprendido\n",
    "\n",
    "Usamos el modelo aprendido para analizar la misma zona pero del año 2018\n"
   ]
  },
  {
   "cell_type": "code",
   "execution_count": 14,
   "metadata": {},
   "outputs": [],
   "source": [
    "# Para ejecutarlo en el notebook, descomentar y usar la siguente linea \n",
    "#!python3 $script_test_path $test_tif_path $test_shp_path $out_train_model_path_full $out_test_results_path $n_jobs $trees $depth --root_path $root_path\n",
    "#!python3 $script_test_path $train_tif_path $train_shp_path $out_train_model_path_full $out_test_results_path_train $n_jobs $trees $depth --root_path $root_path\n",
    "\n",
    "# Para ejecutarlo en background independiente del notbook usar la siguente linea\n",
    "# Sobre el test set (2018)\n",
    "!python3 $script_test_path $test_tif_path $test_shp_path $out_train_model_path_full $out_test_results_path $n_jobs $trees $depth --root_path $root_path >> ./concordia2018_test_rf.log 2>&1\n",
    "# Sobre el train set (2016)\n",
    "!python3 $script_test_path $train_tif_path $train_shp_path $out_train_model_path_full $out_test_results_path_train $n_jobs $trees $depth --root_path $root_path >> ./concordia2016_test_train_rf.log 2>&1"
   ]
  },
  {
   "cell_type": "code",
   "execution_count": 15,
   "metadata": {},
   "outputs": [
    {
     "name": "stdout",
     "output_type": "stream",
     "text": [
      "Evaluacion terminada\n"
     ]
    }
   ],
   "source": [
    "print(\"Evaluacion terminada\")"
   ]
  },
  {
   "cell_type": "markdown",
   "metadata": {},
   "source": [
    "La performance sobre el año 2018 usado de test es la siguiente"
   ]
  },
  {
   "cell_type": "code",
   "execution_count": 6,
   "metadata": {},
   "outputs": [
    {
     "name": "stdout",
     "output_type": "stream",
     "text": [
      "============\n",
      "Error Matrix\n",
      "============\n",
      "\n",
      "                Observed\n",
      "                --------\n",
      "                C     2   C     4   C     5   Total   User(%)\n",
      "                -------   -------   -------   -----   -------\n",
      "Predicted C002| (0)       0         0         0       0.00\n",
      "          C004| 121       (0)       2         123     0.00\n",
      "          C005| 0         0         (822)     822     100.00\n",
      "         Total| 121       0         824       (945)\n",
      "   Producer(%)| 0.00      0.00      99.76             (86.98%)\n",
      "\n",
      "Samples: 945\n",
      "\n",
      "==========\n",
      "Statistics\n",
      "==========\n",
      "\n",
      "Overall Accuracy (%): 86.98\n",
      "Kappa: 0.46\n",
      "Hamming loss: 0.13\n",
      "\n",
      "============\n",
      "Class report\n",
      "============\n",
      "\n",
      "             precision    recall  f1-score   support\n",
      "\n",
      "          2       0.00      0.00      0.00       121\n",
      "          4       0.00      0.00      0.00         0\n",
      "          5       1.00      1.00      1.00       824\n",
      "\n",
      "avg / total       0.87      0.87      0.87       945\n",
      "\n"
     ]
    }
   ],
   "source": [
    "out_folder = '{}/model_test_rf_t{}_d{}/'.format(out_test_results_path,trees,depth)\n",
    "performance_file = '{}{}'.format(out_folder, 'concordia2018_train_rf_t107_d1007_rf_t107_d1007_acc.txt')\n",
    "# !cat $performance_file\n",
    "with open(performance_file, 'r') as f:\n",
    "    print(f.read())"
   ]
  },
  {
   "cell_type": "markdown",
   "metadata": {},
   "source": [
    "Vemos que en la carpeta `clasificacion_...` dentro de la carpeta de salida, está la imagen obtenida luego de aplicar el modelo"
   ]
  },
  {
   "cell_type": "code",
   "execution_count": 7,
   "metadata": {},
   "outputs": [
    {
     "data": {
      "text/plain": [
       "['concordia2018_train_rf_t107_d1007_rf_t107_d1007.tif']"
      ]
     },
     "execution_count": 7,
     "metadata": {},
     "output_type": "execute_result"
    }
   ],
   "source": [
    "map_file = '{}/clasificacion_test_rf_t{}_d{}/concordia2018_train_rf_t107_d1007_rf_t107_d1007.tif'.format(out_test_results_path, trees, depth)\n",
    "# !ls $map_file\n",
    "os.listdir(os.path.dirname(map_file))"
   ]
  },
  {
   "cell_type": "markdown",
   "metadata": {},
   "source": [
    "## Mover los resultados a una carpeta con formato esperado para post-procesamiento\n",
    "\n",
    "Movemos los resultados a una estructura de carpetas con el patrón `region/ciudad/año` que esperan los scripts de post-procesamiento "
   ]
  },
  {
   "cell_type": "code",
   "execution_count": 16,
   "metadata": {},
   "outputs": [],
   "source": [
    "import subprocess\n",
    "import glob\n",
    "import shutil\n",
    "\n",
    "def prepare_results(*, year, path_salida, region_city, resultados_classifier, imgs_orig, raster_virtual_path):\n",
    "    # Crear el directorio\n",
    "    results_full_path = os.path.join(path_salida, region_city, str(year))\n",
    "    print('Creando directorio {}'.format(results_full_path))\n",
    "    os.makedirs(os.path.dirname(results_full_path), exist_ok=True)\n",
    "\n",
    "    # Copiar clasificación a la carpeta\n",
    "    for tif_file in glob.glob(os.path.join(resultados_classifier, '*.tif')):\n",
    "        shutil.copy(tif_file,results_full_path)\n",
    "\n",
    "    # Generar raster virtual .vrt con las imágenes originales\n",
    "    original_images_full_path = os.path.join(raster_virtual_path, region_city)\n",
    "    os.makedirs(os.path.join(root_path, original_images_full_path), exist_ok=True)\n",
    "\n",
    "    cmd = \"gdalbuildvrt {dst} {src}\".format(\n",
    "        dst=os.path.join(original_images_full_path, \"{}.vrt\".format(year)),\n",
    "        src=os.path.join(imgs_orig, \"*.tif\"))\n",
    "    print(cmd)\n",
    "\n",
    "    process = subprocess.run(cmd, shell=True, stdout=subprocess.PIPE)\n",
    "    print(process.stdout)"
   ]
  },
  {
   "cell_type": "code",
   "execution_count": 17,
   "metadata": {},
   "outputs": [
    {
     "name": "stdout",
     "output_type": "stream",
     "text": [
      "Creando directorio data/resultados/finales/centro/concordia/2016/\n",
      "gdalbuildvrt data/imagenes_orig/centro/concordia/2016/.vrt data/imagenes/concordia_2016/*.tif\n",
      "b'0...10...20...30...40...50...60...70...80...90...100 - done.\\n'\n"
     ]
    }
   ],
   "source": [
    "prepare_results(year='2016/',\n",
    "                region_city='centro/concordia',\n",
    "                path_salida='data/resultados/finales',\n",
    "                resultados_classifier='data/concordia2016_train_rf_t107_d1007/clasificacion_train_rf_t107_d1007',\n",
    "                imgs_orig='data/imagenes/concordia_2016',\n",
    "                raster_virtual_path='data/imagenes_orig')"
   ]
  },
  {
   "cell_type": "code",
   "execution_count": 18,
   "metadata": {},
   "outputs": [
    {
     "name": "stdout",
     "output_type": "stream",
     "text": [
      "Creando directorio data/resultados/finales/centro/concordia/2018/\n",
      "gdalbuildvrt data/imagenes_orig/centro/concordia/2018/.vrt data/imagenes/concordia_2018/*.tif\n",
      "b'0...10...20...30...40...50...60...70...80...90...100 - done.\\n'\n"
     ]
    }
   ],
   "source": [
    "prepare_results(year='2018/',\n",
    "                region_city='centro/concordia',\n",
    "                path_salida='data/resultados/finales',\n",
    "                resultados_classifier='data/concordia2018_train_rf_t107_d1007/clasificacion_test_rf_t107_d1007',\n",
    "                imgs_orig='data/imagenes/concordia_2018',\n",
    "                raster_virtual_path='data/imagenes_orig')"
   ]
  },
  {
   "cell_type": "code",
   "execution_count": null,
   "metadata": {},
   "outputs": [],
   "source": []
  }
 ],
 "metadata": {
  "kernelspec": {
   "display_name": "Python 3",
   "language": "python",
   "name": "python3"
  },
  "language_info": {
   "codemirror_mode": {
    "name": "ipython",
    "version": 3
   },
   "file_extension": ".py",
   "mimetype": "text/x-python",
   "name": "python",
   "nbconvert_exporter": "python",
   "pygments_lexer": "ipython3",
   "version": "3.6.8"
  }
 },
 "nbformat": 4,
 "nbformat_minor": 2
}
