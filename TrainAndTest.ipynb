{
 "cells": [
  {
   "cell_type": "markdown",
   "metadata": {},
   "source": [
    "# Pipeline de entrenamiento y predicción\n",
    "\n",
    "En este notebook se ejemplifica como ejecutar los scripts para poder:\n",
    "    \n",
    "1. Entrenar un modelo para clasificar las zonas de un mapa\n",
    "2. Usar ese mismo modelo para analizar zonas y tener un estimativo de las zonas "
   ]
  },
  {
   "cell_type": "markdown",
   "metadata": {},
   "source": [
    "## Preparando los datos\n",
    "\n",
    "En este notebook se demostrará el proceso utilizando un recorte de imágenes SPOT6/7 para la ciudad de Concordia, Entre Ríos. Se utilizará la imagen correspondiente al año 2017 para entrenar el modelo, y la del 2018 para evaluarlo."
   ]
  },
  {
   "cell_type": "code",
   "execution_count": 2,
   "metadata": {},
   "outputs": [],
   "source": [
    "import os\n",
    "\n",
    "root_path = '/ap-siu-habitat'\n",
    "\n",
    "images_path = os.path.join(root_path, 'data', 'imagenes')\n",
    "train_tif_path = os.path.join(images_path, 'concordia_2016', 'concordia_small_2016.TIF')\n",
    "test_tif_path = os.path.join(images_path, 'concordia_2018', 'concordia_small_2018.TIF')"
   ]
  },
  {
   "cell_type": "markdown",
   "metadata": {},
   "source": [
    "*Opcional*: Si quiere ejecutar el proceso para las imagenes enteras, descomente las lineas de la siguiente celda y ejecútela.\n",
    "\n",
    "**Tenga en cuenta que el entrenamiento puede demorar varias horas.**"
   ]
  },
  {
   "cell_type": "code",
   "execution_count": 3,
   "metadata": {},
   "outputs": [],
   "source": [
    "# concordia_data_path = '{}/data/conae/centro/concordia'.format(root_path)\n",
    "\n",
    "# train_product_folder = 'train'\n",
    "# train_product_image = 'concordia_2016.TIF'\n",
    "# train_tif_path = '{}/{}/{}'.format(concordia_data_path,train_product_folder,train_product_image)\n",
    "# train_remote_tif_url = 'https://storage.googleapis.com/dym-ap-siu-habitat-public-images/concordia/IMG_SPOT7_PMS_201601281334024_ORT_C0000000058530_R1C1.TIF'\n",
    "\n",
    "# !wget --continue -O $train_tif_path $train_remote_tif_url\n",
    "\n",
    "# test_product_folder = 'test'\n",
    "# test_product_image = 'concordia_2018.TIF'\n",
    "# test_tif_path = '{}/{}/{}'.format(concordia_data_path,test_product_folder,test_product_image)\n",
    "# test_remote_tif_url = 'https://storage.googleapis.com/dym-ap-siu-habitat-public-images/concordia/IMG_SPOT6_PMS_201801071323410_ORT_C0000000058510_R1C1.TIF'\n",
    "\n",
    "# !wget --continue -O $test_tif_path $test_remote_tif_url"
   ]
  },
  {
   "cell_type": "markdown",
   "metadata": {},
   "source": [
    "Inicializamos el resto de las variables para ejecutar los scripts, entre ellas la cantidad de hilos paralelos (`n_jobs`) , arboles (`trees`) y profundidad de los mismos (`depth`). Además indicamos las rutas de los scripts, archivos vectoriales etiquetados y rutas de salida."
   ]
  },
  {
   "cell_type": "code",
   "execution_count": 4,
   "metadata": {},
   "outputs": [],
   "source": [
    "script_train_path = '{}/script/siu_train.py'.format(root_path)\n",
    "script_test_path = '{}/script/siu_test.py'.format(root_path)\n",
    "\n",
    "n_jobs = 4\n",
    "trees = 107\n",
    "depth = 1007\n",
    "\n",
    "train_shp_path = '{}/data/etiquetado/centro/concordia2016_train.shp'.format(root_path)\n",
    "out_train_model_path = '{}/data/concordia2016_train_rf_t{}_d{}'.format(root_path,trees,depth)\n",
    "model_file_name = 'concordia2016_train_rf_t{trs}_d{dpt}_rf_t{trs}_d{dpt}.txt'.format(trs=trees,dpt=depth)\n",
    "\n",
    "test_shp_path = '{}/data/etiquetado/centro/concordia2018_train.shp'.format(root_path)\n",
    "out_test_results_path = '{}/data/concordia2018_train_rf_t{}_d{}'.format(root_path,trees,depth)\n",
    "\n",
    "out_train_model_path_full = '{}/model_train_rf_t{}_d{}/{}'.format(out_train_model_path,trees,depth,model_file_name)\n",
    "out_test_results_path_train = '{}/data/concordia2016_test_rf_t{}_d{}'.format(root_path,trees,depth)"
   ]
  },
  {
   "cell_type": "markdown",
   "metadata": {},
   "source": [
    "## Entrenamiento del modelo\n",
    "\n",
    "Entrenamos a modo de ejemplo sobre los datos de la ciudad de concordia del año 2016"
   ]
  },
  {
   "cell_type": "code",
   "execution_count": 5,
   "metadata": {},
   "outputs": [],
   "source": [
    "# Para ejecutarlo en el notebook, descomentar y usar la siguente linea \n",
    "#!python3 $script_train_path $train_tif_path $train_shp_path $out_train_model_path $n_jobs $trees $depth --root_path $root_path\n",
    "\n",
    "# Para ejecutarlo en background independiente del notbook usar la siguente linea\n",
    "!python3 $script_train_path $train_tif_path $train_shp_path $out_train_model_path $n_jobs $trees $depth --root_path $root_path >> ./concordia2016_train_rf.log 2>&1"
   ]
  },
  {
   "cell_type": "code",
   "execution_count": 6,
   "metadata": {},
   "outputs": [
    {
     "name": "stdout",
     "output_type": "stream",
     "text": [
      "Entrenamiento terminado\n"
     ]
    }
   ],
   "source": [
    "print(\"Entrenamiento terminado\")"
   ]
  },
  {
   "cell_type": "markdown",
   "metadata": {},
   "source": [
    "Podemos analizar la carpeta de salida donde encontramos el resultado de performance y el modelo obtenido"
   ]
  },
  {
   "cell_type": "code",
   "execution_count": 7,
   "metadata": {},
   "outputs": [
    {
     "name": "stdout",
     "output_type": "stream",
     "text": [
      "total 64K\r\n",
      "-rwxr-xr-x 1 root root 769 Nov  4 18:19 concordia2016_train_rf_t107_d1007_rf_t107_d1007_acc.txt\r\n",
      "-rwxr-xr-x 1 root root 57K Nov  4 18:19 concordia2016_train_rf_t107_d1007_rf_t107_d1007.txt\r\n"
     ]
    }
   ],
   "source": [
    "out_folder = '{}/model_train_rf_t{}_d{}/'.format(out_train_model_path,trees,depth)\n",
    "!ls -lth $out_folder"
   ]
  },
  {
   "cell_type": "markdown",
   "metadata": {},
   "source": [
    "Abriendo el archivo terminado en `_acc.txt` vemos la matriz de confusión y las medidas de performance de entrenamiento"
   ]
  },
  {
   "cell_type": "code",
   "execution_count": 8,
   "metadata": {},
   "outputs": [
    {
     "name": "stdout",
     "output_type": "stream",
     "text": [
      "============\r\n",
      "Error Matrix\r\n",
      "============\r\n",
      "\r\n",
      "                Observed\r\n",
      "                --------\r\n",
      "                C     4   C     5   Total   User(%)\r\n",
      "                -------   -------   -----   -------\r\n",
      "Predicted C004| (44)      0         44      100.00\r\n",
      "          C005| 0         (370)     370     100.00\r\n",
      "         Total| 44        370       (414)\r\n",
      "   Producer(%)| 100.00    100.00            (100.00%)\r\n",
      "\r\n",
      "Samples: 414\r\n",
      "\r\n",
      "==========\r\n",
      "Statistics\r\n",
      "==========\r\n",
      "\r\n",
      "Overall Accuracy (%): 100.00\r\n",
      "Kappa: 1.00\r\n",
      "F-beta: 1.00\r\n",
      "Hamming loss: 0.00\r\n",
      "\r\n",
      "============\r\n",
      "Class report\r\n",
      "============\r\n",
      "\r\n",
      "             precision    recall  f1-score   support\r\n",
      "\r\n",
      "          4       1.00      1.00      1.00        44\r\n",
      "          5       1.00      1.00      1.00       370\r\n",
      "\r\n",
      "avg / total       1.00      1.00      1.00       414\r\n"
     ]
    }
   ],
   "source": [
    "performance_file = '{}{}'.format(out_folder,'concordia2016_train_rf_t107_d1007_rf_t107_d1007_acc.txt')\n",
    "!cat $performance_file"
   ]
  },
  {
   "cell_type": "markdown",
   "metadata": {},
   "source": [
    "## Predicción usando el modelo aprendido\n",
    "\n",
    "Usamos el modelo aprendido para analizar la misma zona pero del año 2018\n"
   ]
  },
  {
   "cell_type": "code",
   "execution_count": 9,
   "metadata": {},
   "outputs": [],
   "source": [
    "# Para ejecutarlo en el notebook, descomentar y usar la siguente linea \n",
    "#!python3 $script_test_path $test_tif_path $test_shp_path $out_train_model_path_full $out_test_results_path $n_jobs $trees $depth --root_path $root_path\n",
    "#!python3 $script_test_path $train_tif_path $train_shp_path $out_train_model_path_full $out_test_results_path_train $n_jobs $trees $depth --root_path $root_path\n",
    "\n",
    "# Para ejecutarlo en background independiente del notbook usar la siguente linea\n",
    "# Sobre el test set (2018)\n",
    "!python3 $script_test_path $test_tif_path $test_shp_path $out_train_model_path_full $out_test_results_path $n_jobs $trees $depth --root_path $root_path >> ./concordia2018_test_rf.log 2>&1\n",
    "# Sobre el train set (2016)\n",
    "!python3 $script_test_path $train_tif_path $train_shp_path $out_train_model_path_full $out_test_results_path_train $n_jobs $trees $depth --root_path $root_path >> ./concordia2016_test_train_rf.log 2>&1"
   ]
  },
  {
   "cell_type": "code",
   "execution_count": 10,
   "metadata": {},
   "outputs": [
    {
     "name": "stdout",
     "output_type": "stream",
     "text": [
      "Evaluacion terminada\n"
     ]
    }
   ],
   "source": [
    "print(\"Evaluacion terminada\")"
   ]
  },
  {
   "cell_type": "markdown",
   "metadata": {},
   "source": [
    "La performance sobre el año 2018 usado de test es la siguiente"
   ]
  },
  {
   "cell_type": "code",
   "execution_count": 11,
   "metadata": {},
   "outputs": [
    {
     "name": "stdout",
     "output_type": "stream",
     "text": [
      "============\r\n",
      "Error Matrix\r\n",
      "============\r\n",
      "\r\n",
      "                Observed\r\n",
      "                --------\r\n",
      "                C     2   C     4   C     5   Total   User(%)\r\n",
      "                -------   -------   -------   -----   -------\r\n",
      "Predicted C002| (0)       0         0         0       0.00\r\n",
      "          C004| 123       (0)       3         126     0.00\r\n",
      "          C005| 0         0         (819)     819     100.00\r\n",
      "         Total| 123       0         822       (945)\r\n",
      "   Producer(%)| 0.00      0.00      99.64             (86.67%)\r\n",
      "\r\n",
      "Samples: 945\r\n",
      "\r\n",
      "==========\r\n",
      "Statistics\r\n",
      "==========\r\n",
      "\r\n",
      "Overall Accuracy (%): 86.67\r\n",
      "Kappa: 0.46\r\n",
      "Hamming loss: 0.13\r\n",
      "\r\n",
      "============\r\n",
      "Class report\r\n",
      "============\r\n",
      "\r\n",
      "             precision    recall  f1-score   support\r\n",
      "\r\n",
      "          2       0.00      0.00      0.00       123\r\n",
      "          4       0.00      0.00      0.00         0\r\n",
      "          5       1.00      1.00      1.00       822\r\n",
      "\r\n",
      "avg / total       0.87      0.87      0.87       945\r\n"
     ]
    }
   ],
   "source": [
    "out_folder = '{}/model_test_rf_t{}_d{}/'.format(out_test_results_path,trees,depth)\n",
    "performance_file = '{}{}'.format(out_folder, 'concordia2018_train_rf_t107_d1007_rf_t107_d1007_acc.txt')\n",
    "!cat $performance_file"
   ]
  },
  {
   "cell_type": "markdown",
   "metadata": {},
   "source": [
    "Vemos que en la carpeta `clasificacion_...` dentro de la carpeta de salida, está la imagen obtenida luego de aplicar el modelo"
   ]
  },
  {
   "cell_type": "code",
   "execution_count": 12,
   "metadata": {},
   "outputs": [
    {
     "name": "stdout",
     "output_type": "stream",
     "text": [
      "/ap-siu-habitat/data/concordia2018_train_rf_t107_d1007/clasificacion_test_rf_t107_d1007/concordia2018_train_rf_t107_d1007_rf_t107_d1007.tif\r\n"
     ]
    }
   ],
   "source": [
    "map_file = '{}/clasificacion_test_rf_t{}_d{}/concordia2018_train_rf_t107_d1007_rf_t107_d1007.tif'.format(out_test_results_path, trees, depth)\n",
    "!ls $map_file"
   ]
  },
  {
   "cell_type": "markdown",
   "metadata": {},
   "source": [
    "## Mover los resultados a una carpeta con formato esperado para post-procesamiento\n",
    "\n",
    "Movemos los resultados a una estructura de carpetas con el patrón `region/ciudad/año` que esperan los scripts de post-procesamiento "
   ]
  },
  {
   "cell_type": "code",
   "execution_count": 13,
   "metadata": {},
   "outputs": [
    {
     "name": "stdout",
     "output_type": "stream",
     "text": [
      "ls: cannot access 'data/sample_images/': No such file or directory\r\n"
     ]
    }
   ],
   "source": [
    "ls data/sample_images/"
   ]
  },
  {
   "cell_type": "code",
   "execution_count": 14,
   "metadata": {},
   "outputs": [
    {
     "name": "stdout",
     "output_type": "stream",
     "text": [
      "0...10...20...30...40...50...60...70...80...90...100 - done.\r\n",
      "ERROR 4: data/imagenes/concordia_2016/*.TIF: No such file or directory\r\n",
      "Warning 1: Can't open data/imagenes/concordia_2016/*.TIF. Skipping it\r\n"
     ]
    }
   ],
   "source": [
    "# Script para tomar los resultados de clasificaciones para un año dado y generar la estructura de archivos necesaria para post-procesar y obtener estadísticas y plots\n",
    "!script/prepare_results.sh \\\n",
    "    2016 \\\n",
    "    centro/concordia \\\n",
    "    data/resultados/finales \\\n",
    "    data/concordia2016_train_rf_t107_d1007/clasificacion_train_rf_t107_d1007 \\\n",
    "    data/imagenes/concordia_2016 \\\n",
    "    data/imagenes_orig"
   ]
  },
  {
   "cell_type": "code",
   "execution_count": 15,
   "metadata": {},
   "outputs": [
    {
     "name": "stdout",
     "output_type": "stream",
     "text": [
      "0...10...20...30...40...50...60...70...80...90...100 - done.\r\n",
      "ERROR 4: data/imagenes/concordia_2018/*.TIF: No such file or directory\r\n",
      "Warning 1: Can't open data/imagenes/concordia_2018/*.TIF. Skipping it\r\n"
     ]
    }
   ],
   "source": [
    "!script/prepare_results.sh \\\n",
    "    2018 \\\n",
    "    centro/concordia data/resultados/finales \\\n",
    "    data/concordia2018_train_rf_t107_d1007/clasificacion_test_rf_t107_d1007 \\\n",
    "    data/imagenes/concordia_2018 \\\n",
    "    data/imagenes_orig"
   ]
  }
 ],
 "metadata": {
  "kernelspec": {
   "display_name": "Python 3",
   "language": "python",
   "name": "python3"
  },
  "language_info": {
   "codemirror_mode": {
    "name": "ipython",
    "version": 3
   },
   "file_extension": ".py",
   "mimetype": "text/x-python",
   "name": "python",
   "nbconvert_exporter": "python",
   "pygments_lexer": "ipython3",
   "version": "3.6.8"
  }
 },
 "nbformat": 4,
 "nbformat_minor": 2
}
