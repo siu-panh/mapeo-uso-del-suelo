{
 "cells": [
  {
   "cell_type": "markdown",
   "metadata": {},
   "source": [
    "# Pipeline de entrenamiento y predicción\n",
    "\n",
    "En este notebook se ejemplifica como ejecutar los scripts para poder:\n",
    "    \n",
    "    1-Entrenar un modelo para clasificar las zonas de un mapa\n",
    "    2-Usar ese mismo modelo para analizar zonas y tener un estimativo de las zonas "
   ]
  },
  {
   "cell_type": "markdown",
   "metadata": {},
   "source": [
    "## Preparando los datos\n",
    "\n",
    "Para ejecutar este noteboook de prueba, podemos bajar imágenes raster de ejemplo ejecutando los siguientes bloques de código con los cuales descargaremos mapas de la ciudad de concordia para el año 2016 (que usaremos para entrenar el modelo) y 2018 (donde haremos la evaluación del mismo)"
   ]
  },
  {
   "cell_type": "code",
   "execution_count": 1,
   "metadata": {},
   "outputs": [
    {
     "name": "stdout",
     "output_type": "stream",
     "text": [
      "--2019-10-27 22:42:38--  https://storage.googleapis.com/dym-ap-siu-habitat-public-images/concordia/IMG_SPOT7_PMS_201601281334024_ORT_C0000000058530_R1C1.TIF\n",
      "Resolving storage.googleapis.com (storage.googleapis.com)... 173.194.216.128, 2607:f8b0:400c:c07::80\n",
      "Connecting to storage.googleapis.com (storage.googleapis.com)|173.194.216.128|:443... connected.\n",
      "HTTP request sent, awaiting response... 200 OK\n",
      "Length: 425903550 (406M) [image/tiff]\n",
      "Saving to: '/ap-siu-habitat/data/conae/centro/concordia/train/concordia_2016.TIF'\n",
      "\n",
      "/ap-siu-habitat/dat 100%[===================>] 406.17M   126MB/s    in 3.2s    \n",
      "\n",
      "2019-10-27 22:42:42 (126 MB/s) - '/ap-siu-habitat/data/conae/centro/concordia/train/concordia_2016.TIF' saved [425903550/425903550]\n",
      "\n",
      "--2019-10-27 22:42:42--  https://storage.googleapis.com/dym-ap-siu-habitat-public-images/concordia/IMG_SPOT6_PMS_201801071323410_ORT_C0000000058510_R1C1.TIF\n",
      "Resolving storage.googleapis.com (storage.googleapis.com)... 173.194.215.128, 2607:f8b0:400c:c06::80\n",
      "Connecting to storage.googleapis.com (storage.googleapis.com)|173.194.215.128|:443... connected.\n",
      "HTTP request sent, awaiting response... 200 OK\n",
      "Length: 425903550 (406M) [image/tiff]\n",
      "Saving to: '/ap-siu-habitat/data/conae/centro/concordia/test/concordia_2018.TIF'\n",
      "\n",
      "/ap-siu-habitat/dat 100%[===================>] 406.17M   127MB/s    in 3.2s    \n",
      "\n",
      "2019-10-27 22:42:46 (127 MB/s) - '/ap-siu-habitat/data/conae/centro/concordia/test/concordia_2018.TIF' saved [425903550/425903550]\n",
      "\n"
     ]
    }
   ],
   "source": [
    "import os\n",
    "root_path = '/ap-siu-habitat'\n",
    "#root_path = os.getcwd()\n",
    "\n",
    "# Traemos las imágenes de prueba\n",
    "concordia_data_path = '{}/data/conae/centro/concordia'.format(root_path)\n",
    "# Para entrenar usaremos el año 2016 de Concordia\n",
    "train_product_folder = 'train'\n",
    "full_train_folder = '{}/{}'.format(concordia_data_path,train_product_folder)\n",
    "os.makedirs(full_train_folder, exist_ok=True)\n",
    "train_product_image = 'concordia_2016.TIF'\n",
    "train_tif_path = '{}/{}/{}'.format(concordia_data_path,train_product_folder,train_product_image)\n",
    "train_remote_tif_url = 'https://storage.googleapis.com/dym-ap-siu-habitat-public-images/concordia/IMG_SPOT7_PMS_201601281334024_ORT_C0000000058530_R1C1.TIF'\n",
    "\n",
    "!wget -O $train_tif_path $train_remote_tif_url\n",
    "\n",
    "# Para testear usaremos el año 2018 de Concordia\n",
    "test_product_folder = 'test'\n",
    "full_test_folder = '{}/{}'.format(concordia_data_path,test_product_folder)\n",
    "os.makedirs(full_test_folder, exist_ok=True)\n",
    "test_product_image = 'concordia_2018.TIF'\n",
    "test_tif_path = '{}/{}/{}'.format(concordia_data_path,test_product_folder,test_product_image)\n",
    "test_remote_tif_url = 'https://storage.googleapis.com/dym-ap-siu-habitat-public-images/concordia/IMG_SPOT6_PMS_201801071323410_ORT_C0000000058510_R1C1.TIF'\n",
    "\n",
    "!wget -O $test_tif_path $test_remote_tif_url\n",
    "\n"
   ]
  },
  {
   "cell_type": "markdown",
   "metadata": {},
   "source": [
    "Inicializamos el resto de las variables para ejecutar los scripts, entre ellas la cantidad de hilos paralelos (`n_jobs`) , arboles (`trees`) y profundidad de los mismos (`depth`). Además indicamos las rutas de los scripts, archivos vectoriales etiquetados y rutas de salida."
   ]
  },
  {
   "cell_type": "code",
   "execution_count": 2,
   "metadata": {},
   "outputs": [],
   "source": [
    "\n",
    "script_train_path = '{}/script/siu_train.py'.format(root_path)\n",
    "script_test_path = '{}/script/siu_test.py'.format(root_path)\n",
    "\n",
    "n_jobs = 4\n",
    "trees = 107\n",
    "depth = 1007\n",
    "\n",
    "train_shp_path = '{}/data/etiquetado/centro/concordia2016_train.shp'.format(root_path)\n",
    "out_train_model_path = '{}/data/concordia2016_train_rf_t{}_d{}'.format(root_path,trees,depth)\n",
    "model_file_name = 'concordia2016_train_rf_t{trs}_d{dpt}_rf_t{trs}_d{dpt}.txt'.format(trs=trees,dpt=depth)\n",
    "\n",
    "test_shp_path = '{}/data/etiquetado/centro/concordia2018_train.shp'.format(root_path)\n",
    "out_test_results_path = '{}/data/concordia2018_train_rf_t{}_d{}'.format(root_path,trees,depth)\n",
    "\n",
    "out_train_model_path_full = '{}/model_train_rf_t{}_d{}/{}'.format(out_train_model_path,trees,depth,model_file_name)\n",
    "out_test_results_path_train = '{}/data/concordia2016_test_rf_t{}_d{}'.format(root_path,trees,depth)"
   ]
  },
  {
   "cell_type": "markdown",
   "metadata": {},
   "source": [
    "## Entrenamiento del modelo\n",
    "\n",
    "Entrenamos a modo de ejemplo sobre los datos de la ciudad de concordia del año 2016"
   ]
  },
  {
   "cell_type": "code",
   "execution_count": 3,
   "metadata": {},
   "outputs": [],
   "source": [
    "# Para ejecutarlo en el notebook, descomentar y usar la siguente linea \n",
    "#!python3 $script_train_path $train_tif_path $train_shp_path $out_train_model_path $n_jobs $trees $depth --root_path $root_path\n",
    "\n",
    "# Para ejecutarlo en background independiente del notbook usar la siguente linea\n",
    "!python3 $script_train_path $train_tif_path $train_shp_path $out_train_model_path $n_jobs $trees $depth --root_path $root_path >> ./concordia2016_train_rf.log 2>&1"
   ]
  },
  {
   "cell_type": "code",
   "execution_count": 4,
   "metadata": {},
   "outputs": [
    {
     "name": "stdout",
     "output_type": "stream",
     "text": [
      "Entrenamiento terminado\n"
     ]
    }
   ],
   "source": [
    "print(\"Entrenamiento terminado\")"
   ]
  },
  {
   "cell_type": "markdown",
   "metadata": {},
   "source": [
    "Podemos analizar la carpeta de salida donde encontramos el resultado de performance y el modelo obtenido"
   ]
  },
  {
   "cell_type": "code",
   "execution_count": 5,
   "metadata": {},
   "outputs": [
    {
     "name": "stdout",
     "output_type": "stream",
     "text": [
      "total 13M\r\n",
      "-rw-r--r-- 1 root root 1.4K Oct 19 23:22 concordia2016_train_rf_t107_d1007_rf_t107_d1007_acc.txt\r\n",
      "-rw-r--r-- 1 root root  13M Oct 19 23:22 concordia2016_train_rf_t107_d1007_rf_t107_d1007.txt\r\n"
     ]
    }
   ],
   "source": [
    "out_folder = '{}/model_train_rf_t{}_d{}/'.format(out_train_model_path,trees,depth)\n",
    "!ls -lth $out_folder"
   ]
  },
  {
   "cell_type": "markdown",
   "metadata": {},
   "source": [
    "Abriendo el archivo terminado en `_acc.txt` vemos la matriz de confusión y las medidas de performance de entrenamiento"
   ]
  },
  {
   "cell_type": "code",
   "execution_count": 6,
   "metadata": {},
   "outputs": [
    {
     "name": "stdout",
     "output_type": "stream",
     "text": [
      "============\r\n",
      "Error Matrix\r\n",
      "============\r\n",
      "\r\n",
      "                Observed\r\n",
      "                --------\r\n",
      "                C     1   C     2   C     3   C     4   C     5   Total   User(%)\r\n",
      "                -------   -------   -------   -------   -------   -----   -------\r\n",
      "Predicted C001| (365)     26        1         2         0         394     92.64\r\n",
      "          C002| 92        (866)     1         3         0         962     90.02\r\n",
      "          C003| 3         4         (355)     6         0         368     96.47\r\n",
      "          C004| 0         2         4         (432)     0         438     98.63\r\n",
      "          C005| 0         0         0         0         (1258)    1258    100.00\r\n",
      "         Total| 460       898       361       443       1258      (3420)\r\n",
      "   Producer(%)| 79.35     96.44     98.34     97.52     100.00            (95.79%)\r\n",
      "\r\n",
      "Samples: 3,420\r\n",
      "\r\n",
      "==========\r\n",
      "Statistics\r\n",
      "==========\r\n",
      "\r\n",
      "Overall Accuracy (%): 95.79\r\n",
      "Kappa: 0.94\r\n",
      "Hamming loss: 0.04\r\n",
      "\r\n",
      "============\r\n",
      "Class report\r\n",
      "============\r\n",
      "\r\n",
      "             precision    recall  f1-score   support\r\n",
      "\r\n",
      "          1       0.93      0.79      0.85       460\r\n",
      "          2       0.90      0.96      0.93       898\r\n",
      "          3       0.96      0.98      0.97       361\r\n",
      "          4       0.99      0.98      0.98       443\r\n",
      "          5       1.00      1.00      1.00      1258\r\n",
      "\r\n",
      "avg / total       0.96      0.96      0.96      3420\r\n"
     ]
    }
   ],
   "source": [
    "performance_file = '{}{}'.format(out_folder,'concordia2016_train_rf_t107_d1007_rf_t107_d1007_acc.txt')\n",
    "!cat $performance_file"
   ]
  },
  {
   "cell_type": "markdown",
   "metadata": {},
   "source": [
    "## Predicción usando el modelo aprendido\n",
    "\n",
    "Usamos el modelo aprendido para analizar la misma zona pero del año 2018\n"
   ]
  },
  {
   "cell_type": "code",
   "execution_count": 7,
   "metadata": {},
   "outputs": [],
   "source": [
    "# Para ejecutarlo en el notebook, descomentar y usar la siguente linea \n",
    "#!python3 $script_test_path $test_tif_path $test_shp_path $out_train_model_path_full $out_test_results_path $n_jobs $trees $depth --root_path $root_path\n",
    "#!python3 $script_test_path $train_tif_path $train_shp_path $out_train_model_path_full $out_test_results_path_train $n_jobs $trees $depth --root_path $root_path\n",
    "\n",
    "# Para ejecutarlo en background independiente del notbook usar la siguente linea\n",
    "# Sobre el test set (2018)\n",
    "!python3 $script_test_path $test_tif_path $test_shp_path $out_train_model_path_full $out_test_results_path $n_jobs $trees $depth --root_path $root_path >> ./concordia2018_test_rf.log 2>&1\n",
    "# Sobre el train set (2016)\n",
    "!python3 $script_test_path $train_tif_path $train_shp_path $out_train_model_path_full $out_test_results_path_train $n_jobs $trees $depth --root_path $root_path >> ./concordia2016_test_train_rf.log 2>&1"
   ]
  },
  {
   "cell_type": "code",
   "execution_count": 8,
   "metadata": {},
   "outputs": [
    {
     "name": "stdout",
     "output_type": "stream",
     "text": [
      "Evaluacion terminada\n"
     ]
    }
   ],
   "source": [
    "print(\"Evaluacion terminada\")"
   ]
  },
  {
   "cell_type": "markdown",
   "metadata": {},
   "source": [
    "La performance sobre el año 2018 usado de test es la siguiente"
   ]
  },
  {
   "cell_type": "code",
   "execution_count": 9,
   "metadata": {},
   "outputs": [
    {
     "name": "stdout",
     "output_type": "stream",
     "text": [
      "============\r\n",
      "Error Matrix\r\n",
      "============\r\n",
      "\r\n",
      "                Observed\r\n",
      "                --------\r\n",
      "                C     1   C     2   C     3   C     4   C     5   Total   User(%)\r\n",
      "                -------   -------   -------   -------   -------   -----   -------\r\n",
      "Predicted C001| (140)     452       36        73        0         701     19.97\r\n",
      "          C002| 105       (330)     24        16        3         478     69.04\r\n",
      "          C003| 9         1         (556)     4         45        615     90.41\r\n",
      "          C004| 1         3         100       (158)     22        284     55.63\r\n",
      "          C005| 0         0         0         0         (2264)    2264    100.00\r\n",
      "         Total| 255       786       716       251       2334      (4342)\r\n",
      "   Producer(%)| 54.90     41.98     77.65     62.95     97.00             (79.41%)\r\n",
      "\r\n",
      "Samples: 4,342\r\n",
      "\r\n",
      "==========\r\n",
      "Statistics\r\n",
      "==========\r\n",
      "\r\n",
      "Overall Accuracy (%): 79.41\r\n",
      "Kappa: 0.69\r\n",
      "Hamming loss: 0.21\r\n",
      "\r\n",
      "============\r\n",
      "Class report\r\n",
      "============\r\n",
      "\r\n",
      "             precision    recall  f1-score   support\r\n",
      "\r\n",
      "          1       0.20      0.55      0.29       255\r\n",
      "          2       0.69      0.42      0.52       786\r\n",
      "          3       0.90      0.78      0.84       716\r\n",
      "          4       0.56      0.63      0.59       251\r\n",
      "          5       1.00      0.97      0.98      2334\r\n",
      "\r\n",
      "avg / total       0.86      0.79      0.81      4342\r\n"
     ]
    }
   ],
   "source": [
    "out_folder = '{}/model_test_rf_t{}_d{}/'.format(out_test_results_path,trees,depth)\n",
    "performance_file = '{}{}'.format(out_folder,'concordia2018_train_rf_t107_d1007_rf_t107_d1007_acc.txt')\n",
    "!cat $performance_file"
   ]
  },
  {
   "cell_type": "markdown",
   "metadata": {},
   "source": [
    "Vemos que en la carpeta `clasificacion_...` dentro de la carpeta de salida, está la imagen obtenida luego de aplicar el modelo"
   ]
  },
  {
   "cell_type": "code",
   "execution_count": 10,
   "metadata": {},
   "outputs": [
    {
     "name": "stdout",
     "output_type": "stream",
     "text": [
      "/ap-siu-habitat/data/concordia2018_train_rf_t107_d1007/clasificacion_test_rf_t107_d1007/concordia2018_train_rf_t107_d1007_rf_t107_d1007.tif\r\n"
     ]
    }
   ],
   "source": [
    "map_file = '{}/clasificacion_test_rf_t{}_d{}/concordia2018_train_rf_t107_d1007_rf_t107_d1007.tif'.format(out_test_results_path,trees,depth)\n",
    "!ls $map_file"
   ]
  },
  {
   "cell_type": "markdown",
   "metadata": {},
   "source": [
    "## Mover los resultados a una carpeta con formato esperado para post-procesamiento\n",
    "\n",
    "Movemos los resultados a una estructura de carpetas con el patrón `region/ciudad/año` que esperan los scripts de post-procesamiento "
   ]
  },
  {
   "cell_type": "code",
   "execution_count": 11,
   "metadata": {},
   "outputs": [
    {
     "name": "stdout",
     "output_type": "stream",
     "text": [
      "0...10...20...30...40...50ERROR 4: data/conae/centro/concordia/SPOT7_20160128_1334024_PMS_W058S31_L2A_16GT_010x011_4326/PROD_SPOT7_001/VOL_SPOT7_001_A/IMG_SPOT7_PMS_001_A/*.tif: No such file or directory\r\n",
      "Warning 1: Can't open data/conae/centro/concordia/SPOT7_20160128_1334024_PMS_W058S31_L2A_16GT_010x011_4326/PROD_SPOT7_001/VOL_SPOT7_001_A/IMG_SPOT7_PMS_001_A/*.tif. Skipping it\r\n",
      "...60...70...80...90...100 - done.\r\n",
      "ERROR 4: data/conae/centro/concordia/SPOT7_20160128_1334024_PMS_W058S31_L2A_16GT_010x011_4326/PROD_SPOT7_001/VOL_SPOT7_001_A/IMG_SPOT7_PMS_001_A/*.TIF: No such file or directory\r\n",
      "Warning 1: Can't open data/conae/centro/concordia/SPOT7_20160128_1334024_PMS_W058S31_L2A_16GT_010x011_4326/PROD_SPOT7_001/VOL_SPOT7_001_A/IMG_SPOT7_PMS_001_A/*.TIF. Skipping it\r\n"
     ]
    }
   ],
   "source": [
    "# Script para tomar los resultados de clasificaciones para un año dado y generar la estructura de archivos necesaria para post-procesar y obtener estadísticas y plots\n",
    "!script/prepare_results.sh\\\n",
    "    2016\\\n",
    "    centro/concordia\\\n",
    "    data/resultados/finales\\\n",
    "    data/concordia2016_train_rf_t107_d1007/clasificacion_train_rf_t107_d1007\\\n",
    "    data/conae/centro/concordia/SPOT7_20160128_1334024_PMS_W058S31_L2A_16GT_010x011_4326/PROD_SPOT7_001/VOL_SPOT7_001_A/IMG_SPOT7_PMS_001_A\\\n",
    "    data/imagenes_orig\n"
   ]
  },
  {
   "cell_type": "code",
   "execution_count": 12,
   "metadata": {},
   "outputs": [
    {
     "name": "stdout",
     "output_type": "stream",
     "text": [
      "0...10...20...30...40...50ERROR 4: data/conae/centro/concordia/SPOT6_20180107_1323410_PMS_W058S31_L2A_16GT_010x011_4326/PROD_SPOT6_001/VOL_SPOT6_001_A/IMG_SPOT6_PMS_001_A/*.tif: No such file or directory\r\n",
      "Warning 1: Can't open data/conae/centro/concordia/SPOT6_20180107_1323410_PMS_W058S31_L2A_16GT_010x011_4326/PROD_SPOT6_001/VOL_SPOT6_001_A/IMG_SPOT6_PMS_001_A/*.tif. Skipping it\r\n",
      "...60...70...80...90...100 - done.\r\n",
      "ERROR 4: data/conae/centro/concordia/SPOT6_20180107_1323410_PMS_W058S31_L2A_16GT_010x011_4326/PROD_SPOT6_001/VOL_SPOT6_001_A/IMG_SPOT6_PMS_001_A/*.TIF: No such file or directory\r\n",
      "Warning 1: Can't open data/conae/centro/concordia/SPOT6_20180107_1323410_PMS_W058S31_L2A_16GT_010x011_4326/PROD_SPOT6_001/VOL_SPOT6_001_A/IMG_SPOT6_PMS_001_A/*.TIF. Skipping it\r\n"
     ]
    }
   ],
   "source": [
    "!script/prepare_results.sh\\\n",
    "    2018\\\n",
    "    centro/concordia data/resultados/finales\\\n",
    "    data/concordia2018_train_rf_t107_d1007/clasificacion_test_rf_t107_d1007\\\n",
    "    data/conae/centro/concordia/SPOT6_20180107_1323410_PMS_W058S31_L2A_16GT_010x011_4326/PROD_SPOT6_001/VOL_SPOT6_001_A/IMG_SPOT6_PMS_001_A\\\n",
    "    data/imagenes_orig\n",
    "\n"
   ]
  },
  {
   "cell_type": "code",
   "execution_count": null,
   "metadata": {},
   "outputs": [],
   "source": []
  }
 ],
 "metadata": {
  "kernelspec": {
   "display_name": "Python 3",
   "language": "python",
   "name": "python3"
  },
  "language_info": {
   "codemirror_mode": {
    "name": "ipython",
    "version": 3
   },
   "file_extension": ".py",
   "mimetype": "text/x-python",
   "name": "python",
   "nbconvert_exporter": "python",
   "pygments_lexer": "ipython3",
   "version": "3.6.8"
  }
 },
 "nbformat": 4,
 "nbformat_minor": 2
}
